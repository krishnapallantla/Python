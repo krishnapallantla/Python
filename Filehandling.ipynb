{
  "nbformat": 4,
  "nbformat_minor": 0,
  "metadata": {
    "colab": {
      "provenance": [],
      "toc_visible": true,
      "authorship_tag": "ABX9TyOuKAyeglwoCxSJ5n3BbuWf",
      "include_colab_link": true
    },
    "kernelspec": {
      "name": "python3",
      "display_name": "Python 3"
    },
    "language_info": {
      "name": "python"
    }
  },
  "cells": [
    {
      "cell_type": "markdown",
      "metadata": {
        "id": "view-in-github",
        "colab_type": "text"
      },
      "source": [
        "<a href=\"https://colab.research.google.com/github/krishnapallantla/Python/blob/main/Filehandling.ipynb\" target=\"_parent\"><img src=\"https://colab.research.google.com/assets/colab-badge.svg\" alt=\"Open In Colab\"/></a>"
      ]
    },
    {
      "cell_type": "code",
      "execution_count": 1,
      "metadata": {
        "colab": {
          "base_uri": "https://localhost:8080/"
        },
        "id": "mwSrT6EVrBq1",
        "outputId": "7f552556-827a-4585-e9a9-58dc8427cf91"
      },
      "outputs": [
        {
          "output_type": "stream",
          "name": "stdout",
          "text": [
            "Welcome\n"
          ]
        }
      ],
      "source": [
        "print(\"Welcome\")"
      ]
    },
    {
      "cell_type": "code",
      "source": [
        "text=\"Hello this is my first file\"\n",
        "\n",
        "f=open(\"normalTextFile.txt\",\"w\")\n",
        "f.write(text)\n",
        "f.close()"
      ],
      "metadata": {
        "id": "OMEWkEt7rD_g"
      },
      "execution_count": 9,
      "outputs": []
    },
    {
      "cell_type": "code",
      "source": [
        "f = open(\"normalTextFile.txt\",\"r\")\n",
        "text2 = f.read()\n",
        "f.close()\n",
        "print(text2)"
      ],
      "metadata": {
        "colab": {
          "base_uri": "https://localhost:8080/"
        },
        "id": "9Nk96EMwx0P3",
        "outputId": "bcf7dd8d-6b7a-444a-f788-d2107d2e08af"
      },
      "execution_count": 4,
      "outputs": [
        {
          "output_type": "stream",
          "name": "stdout",
          "text": [
            "Hello this is my first file\n"
          ]
        }
      ]
    },
    {
      "cell_type": "code",
      "source": [
        "from os import name\n",
        "f=open(\"normalTextFile.txt\",\"w\")\n",
        "\n",
        "print(\"file name is \",f.name)\n",
        "print(\"file mode is \", f.mode)\n",
        "print(\"file encoding mode is \", f.encoding)\n",
        "f.close()\n"
      ],
      "metadata": {
        "colab": {
          "base_uri": "https://localhost:8080/"
        },
        "id": "oWMKA6ms28Hw",
        "outputId": "1ba46d6b-2523-4500-c367-115f3208d32f"
      },
      "execution_count": 7,
      "outputs": [
        {
          "output_type": "stream",
          "name": "stdout",
          "text": [
            "file name is  normalTextFile.txt\n",
            "file mode is  w\n",
            "file encoding mode is  UTF-8\n"
          ]
        }
      ]
    },
    {
      "cell_type": "code",
      "source": [
        "#text mode & binary mode\n",
        "f = open(\"normalTextFile.txt\",\"rb\")\n",
        "\n",
        "data = f.read()\n",
        "print(data)\n",
        "\n",
        "f.close()"
      ],
      "metadata": {
        "colab": {
          "base_uri": "https://localhost:8080/"
        },
        "id": "c8h8rAHm5zQu",
        "outputId": "240e6b04-dece-4b9d-f720-4c97ad294a5d"
      },
      "execution_count": 11,
      "outputs": [
        {
          "output_type": "stream",
          "name": "stdout",
          "text": [
            "b'Hello this is my first file\\nthis is some more details'\n"
          ]
        }
      ]
    },
    {
      "cell_type": "code",
      "source": [
        "f = open(\"normalTextFile.txt\",\"rb\")\n",
        "\n",
        "data = f.readline()\n",
        "print(data)\n",
        "data = f.readline()\n",
        "print(data)\n",
        "\n",
        "f.close()"
      ],
      "metadata": {
        "colab": {
          "base_uri": "https://localhost:8080/"
        },
        "id": "9hqei1Re9Fy7",
        "outputId": "70b00a08-ac0c-4885-d22c-f8b1dab53a46"
      },
      "execution_count": 13,
      "outputs": [
        {
          "output_type": "stream",
          "name": "stdout",
          "text": [
            "b'Hello this is my first file\\n'\n",
            "b'this is some more details'\n"
          ]
        }
      ]
    },
    {
      "cell_type": "code",
      "source": [
        "f = open(\"normalTextFile.txt\",\"rb\")\n",
        "\n",
        "data = f.read(10)\n",
        "print(data, end=\"\")\n",
        "data = f.read(10)\n",
        "print(data)\n",
        "\n",
        "f.close()"
      ],
      "metadata": {
        "colab": {
          "base_uri": "https://localhost:8080/"
        },
        "id": "7xfUdLqw92pU",
        "outputId": "22b4a257-1c3c-4e79-e969-734f257f1c50"
      },
      "execution_count": 15,
      "outputs": [
        {
          "output_type": "stream",
          "name": "stdout",
          "text": [
            "b'Hello this'b' is my fir'\n"
          ]
        }
      ]
    },
    {
      "cell_type": "code",
      "source": [
        "f = open(\"normalTextFile.txt\",\"r\")\n",
        "\n",
        "data = f.readline(5)\n",
        "print(data,end=\"\")\n",
        "data = f.readline()\n",
        "print(data)\n",
        "data = f.readlines()\n",
        "print(data)\n",
        "f.close()"
      ],
      "metadata": {
        "colab": {
          "base_uri": "https://localhost:8080/"
        },
        "id": "Ebuj0P-W-mhV",
        "outputId": "1bcd7e48-bf02-46c2-a7d6-a6b3d4b551e4"
      },
      "execution_count": 17,
      "outputs": [
        {
          "output_type": "stream",
          "name": "stdout",
          "text": [
            "Hello this is my first file\n",
            "\n",
            "['this is some more details\\n', 'oh my god']\n"
          ]
        }
      ]
    },
    {
      "cell_type": "code",
      "source": [
        "#tell and seek method\n",
        "\n",
        "#seek(0) takes you to beginning of the file. used tto change pointer position\n",
        "#tell gives the current position of the file pointer from the beginning of the file\n",
        "#position starts from 0\n",
        "\n",
        "\n",
        "f = open(\"normalTextFile.txt\")\n",
        "print(f.tell())\n",
        "f.read(3)\n",
        "print(f.tell())\n",
        "f.close()"
      ],
      "metadata": {
        "colab": {
          "base_uri": "https://localhost:8080/"
        },
        "id": "4gIEfCD08y7_",
        "outputId": "64627e6a-d019-4dc8-c3ea-3c0ff83f5f76"
      },
      "execution_count": 1,
      "outputs": [
        {
          "output_type": "stream",
          "name": "stdout",
          "text": [
            "0\n",
            "3\n"
          ]
        }
      ]
    },
    {
      "cell_type": "code",
      "source": [
        "f = open(\"normalTextFile.txt\")\n",
        "print(f.tell())\n",
        "print(f.read(5))\n",
        "f.seek(0)\n",
        "print(f.read(5))\n",
        "print(f.tell())\n",
        "f.close()"
      ],
      "metadata": {
        "colab": {
          "base_uri": "https://localhost:8080/"
        },
        "id": "emMpRPAR-lKB",
        "outputId": "1c19da63-380b-4174-e397-f8f60e555913"
      },
      "execution_count": 2,
      "outputs": [
        {
          "output_type": "stream",
          "name": "stdout",
          "text": [
            "0\n",
            "Hello\n",
            "Hello\n",
            "5\n"
          ]
        }
      ]
    },
    {
      "cell_type": "code",
      "source": [
        "f = open(\"normalTextFile.txt\", \"r\")\n",
        "\n",
        "content = f.readlines()\n",
        "print(content)\n",
        "\n",
        "no_of_words=0\n",
        "no_of_chars=0\n",
        "no_of_lines=0\n",
        "\n",
        "for line in content:\n",
        "  no_of_lines = no_of_lines+1\n",
        "  no_of_words = no_of_words + len(line.split())\n",
        "  no_of_chars = no_of_chars + len(line)\n",
        "\n",
        "f.close()\n",
        "\n",
        "print(\"number of lines \", no_of_lines)\n",
        "print(\"number of words \", no_of_words)\n",
        "print(\"number of chars \", no_of_chars)\n",
        "\n",
        "\n"
      ],
      "metadata": {
        "colab": {
          "base_uri": "https://localhost:8080/"
        },
        "id": "luVzQs0-B9LE",
        "outputId": "f5ef39e4-bb1b-4b2e-cb47-d9ba8db87e7f"
      },
      "execution_count": 3,
      "outputs": [
        {
          "output_type": "stream",
          "name": "stdout",
          "text": [
            "['Hello this is my first file\\n', 'this is some more details\\n', 'oh my god']\n",
            "number of lines  3\n",
            "number of words  14\n",
            "number of chars  63\n"
          ]
        }
      ]
    },
    {
      "cell_type": "code",
      "source": [
        "f = open(\"rrr.txt\", 'w')\n",
        "f.write(\"ABCDE\\nEFGH\")\n",
        "n = f.write(\"abcd\")\n",
        "print(n)\n",
        "f.close()"
      ],
      "metadata": {
        "colab": {
          "base_uri": "https://localhost:8080/"
        },
        "id": "OVLwyzgrHlwt",
        "outputId": "eb06c96c-d5da-466d-9658-e7a2961bd63b"
      },
      "execution_count": 4,
      "outputs": [
        {
          "output_type": "stream",
          "name": "stdout",
          "text": [
            "4\n"
          ]
        }
      ]
    },
    {
      "cell_type": "code",
      "source": [
        "#writelines -> code to copy the lines\n",
        "\n",
        "f=open(\"rrr.txt\",\"r\")\n",
        "k=f.readlines()\n",
        "print(k)\n",
        "f.close()\n",
        "\n",
        "f1 = open(\"bbb.txt\",'w')\n",
        "f1.writelines(k)\n",
        "f1.close()"
      ],
      "metadata": {
        "colab": {
          "base_uri": "https://localhost:8080/"
        },
        "id": "dmOOG0e-H77z",
        "outputId": "c8b90abc-4188-43ff-db50-22af88ba12af"
      },
      "execution_count": 5,
      "outputs": [
        {
          "output_type": "stream",
          "name": "stdout",
          "text": [
            "['ABCDE\\n', 'EFGHabcd']\n"
          ]
        }
      ]
    },
    {
      "cell_type": "code",
      "source": [
        "#writelines -> write line by line\n",
        "\n",
        "f=open(\"rrr.txt\",\"r\")\n",
        "f1 = open(\"bbb.txt\",'w')\n",
        "\n",
        "content = f.readlines()\n",
        "for line in content:\n",
        "  f1.write(line)\n",
        "\n",
        "f.close()\n",
        "f1.close()"
      ],
      "metadata": {
        "id": "THCmuhtqIxJ2"
      },
      "execution_count": 6,
      "outputs": []
    },
    {
      "cell_type": "code",
      "source": [
        "#writelines -> write line by line\n",
        "\n",
        "f1 =open(\"bbb.txt\",\"r\")\n",
        "f2 = open(\"xxx.txt\",'w')\n",
        "\n",
        "for line in f1:\n",
        "  f2.write(line)\n",
        "\n",
        "f1.close()\n",
        "f2.close()"
      ],
      "metadata": {
        "id": "ry7nhw2ZJhry"
      },
      "execution_count": 7,
      "outputs": []
    },
    {
      "cell_type": "code",
      "source": [
        "#merging data from multiple files\n",
        "\n",
        "mergeddata = \"\"\n",
        "files=['aaa.txt','bbb.txt','rrr.txt']\n",
        "\n",
        "for i in files:\n",
        "  f = open(i,'r')\n",
        "  mergeddata = mergeddata + f.read() + '\\n'\n",
        "  f.close()\n",
        "\n",
        "print(mergeddata)\n",
        "f1 = open(\"merged_file.txt\",'w')\n",
        "f1.writelines(mergeddata)\n",
        "f1.close()"
      ],
      "metadata": {
        "colab": {
          "base_uri": "https://localhost:8080/"
        },
        "id": "iJYEGBmRLTQA",
        "outputId": "39b0a9df-3f21-4969-f1fa-6971db06f35d"
      },
      "execution_count": 9,
      "outputs": [
        {
          "output_type": "stream",
          "name": "stdout",
          "text": [
            "Nttdata Bangalore\n",
            "Welcome\n",
            "hello world\n",
            "ABCDE\n",
            "EFGHabcd\n",
            "ABCDE\n",
            "EFGHabcd\n",
            "\n"
          ]
        }
      ]
    },
    {
      "cell_type": "code",
      "source": [
        "#r+ -> allows to write into a file along with read\n",
        "\n",
        "f = open(\"merged_file.txt\",\"r+\")\n",
        "f.write(\"hello rey\")\n",
        "data = f.read()\n",
        "print(data)\n",
        "f.write(\"bye\")\n",
        "f.close()\n"
      ],
      "metadata": {
        "colab": {
          "base_uri": "https://localhost:8080/"
        },
        "id": "uSxDxF_5NtVs",
        "outputId": "5daf6b42-7883-4e28-fd35-e530e128230a"
      },
      "execution_count": 10,
      "outputs": [
        {
          "output_type": "stream",
          "name": "stdout",
          "text": [
            "angalore\n",
            "Welcome\n",
            "hello world\n",
            "ABCDE\n",
            "EFGHabcd\n",
            "ABCDE\n",
            "EFGHabcd\n",
            "\n"
          ]
        }
      ]
    },
    {
      "cell_type": "code",
      "source": [
        "#w+ mode\n",
        "\n",
        "f = open(\"aaa.txt\", \"w+\")\n",
        "f.write(\"xyz\")\n",
        "#f.seek(0)\n",
        "data = f.read()\n",
        "print(data)\n",
        "f.close()"
      ],
      "metadata": {
        "id": "yl6F7FsMOrvX"
      },
      "execution_count": null,
      "outputs": []
    },
    {
      "cell_type": "code",
      "source": [
        "#csv file\n",
        "\n",
        "import csv\n",
        "\n",
        "f = open(\"industry.csv\",'r')\n",
        "data = csv.reader()\n",
        "print(data)\n",
        "f.close()"
      ],
      "metadata": {
        "colab": {
          "base_uri": "https://localhost:8080/"
        },
        "id": "vZTwJaKDQAsr",
        "outputId": "e9b48233-e807-429d-97f7-68ddd310af4a"
      },
      "execution_count": 11,
      "outputs": [
        {
          "output_type": "error",
          "ename": "FileNotFoundError",
          "evalue": "[Errno 2] No such file or directory: 'industry.csv'",
          "traceback": [
            "\u001b[0;31m---------------------------------------------------------------------------\u001b[0m",
            "\u001b[0;31mFileNotFoundError\u001b[0m                         Traceback (most recent call last)",
            "\u001b[0;32m<ipython-input-11-fec62602d072>\u001b[0m in \u001b[0;36m<cell line: 0>\u001b[0;34m()\u001b[0m\n\u001b[1;32m      3\u001b[0m \u001b[0;32mimport\u001b[0m \u001b[0mcsv\u001b[0m\u001b[0;34m\u001b[0m\u001b[0;34m\u001b[0m\u001b[0m\n\u001b[1;32m      4\u001b[0m \u001b[0;34m\u001b[0m\u001b[0m\n\u001b[0;32m----> 5\u001b[0;31m \u001b[0mf\u001b[0m \u001b[0;34m=\u001b[0m \u001b[0mopen\u001b[0m\u001b[0;34m(\u001b[0m\u001b[0;34m\"industry.csv\"\u001b[0m\u001b[0;34m,\u001b[0m\u001b[0;34m'r'\u001b[0m\u001b[0;34m)\u001b[0m\u001b[0;34m\u001b[0m\u001b[0;34m\u001b[0m\u001b[0m\n\u001b[0m\u001b[1;32m      6\u001b[0m \u001b[0mdata\u001b[0m \u001b[0;34m=\u001b[0m \u001b[0mcsv\u001b[0m\u001b[0;34m.\u001b[0m\u001b[0mreader\u001b[0m\u001b[0;34m(\u001b[0m\u001b[0;34m)\u001b[0m\u001b[0;34m\u001b[0m\u001b[0;34m\u001b[0m\u001b[0m\n\u001b[1;32m      7\u001b[0m \u001b[0mprint\u001b[0m\u001b[0;34m(\u001b[0m\u001b[0mdata\u001b[0m\u001b[0;34m)\u001b[0m\u001b[0;34m\u001b[0m\u001b[0;34m\u001b[0m\u001b[0m\n",
            "\u001b[0;31mFileNotFoundError\u001b[0m: [Errno 2] No such file or directory: 'industry.csv'"
          ]
        }
      ]
    }
  ]
}