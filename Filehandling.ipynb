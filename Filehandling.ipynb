{
  "nbformat": 4,
  "nbformat_minor": 0,
  "metadata": {
    "colab": {
      "provenance": [],
      "authorship_tag": "ABX9TyPVnZHEZXlP7o7IW8EYwg9h",
      "include_colab_link": true
    },
    "kernelspec": {
      "name": "python3",
      "display_name": "Python 3"
    },
    "language_info": {
      "name": "python"
    }
  },
  "cells": [
    {
      "cell_type": "markdown",
      "metadata": {
        "id": "view-in-github",
        "colab_type": "text"
      },
      "source": [
        "<a href=\"https://colab.research.google.com/github/krishnapallantla/Python/blob/main/Filehandling.ipynb\" target=\"_parent\"><img src=\"https://colab.research.google.com/assets/colab-badge.svg\" alt=\"Open In Colab\"/></a>"
      ]
    },
    {
      "cell_type": "code",
      "execution_count": 1,
      "metadata": {
        "colab": {
          "base_uri": "https://localhost:8080/"
        },
        "id": "mwSrT6EVrBq1",
        "outputId": "7f552556-827a-4585-e9a9-58dc8427cf91"
      },
      "outputs": [
        {
          "output_type": "stream",
          "name": "stdout",
          "text": [
            "Welcome\n"
          ]
        }
      ],
      "source": [
        "print(\"Welcome\")"
      ]
    },
    {
      "cell_type": "code",
      "source": [
        "text=\"Hello this is my first file\"\n",
        "\n",
        "f=open(\"normalTextFile.txt\",\"w\")\n",
        "f.write(text)\n",
        "f.close()"
      ],
      "metadata": {
        "id": "OMEWkEt7rD_g"
      },
      "execution_count": 9,
      "outputs": []
    },
    {
      "cell_type": "code",
      "source": [
        "f = open(\"normalTextFile.txt\",\"r\")\n",
        "text2 = f.read()\n",
        "f.close()\n",
        "print(text2)"
      ],
      "metadata": {
        "colab": {
          "base_uri": "https://localhost:8080/"
        },
        "id": "9Nk96EMwx0P3",
        "outputId": "bcf7dd8d-6b7a-444a-f788-d2107d2e08af"
      },
      "execution_count": 4,
      "outputs": [
        {
          "output_type": "stream",
          "name": "stdout",
          "text": [
            "Hello this is my first file\n"
          ]
        }
      ]
    },
    {
      "cell_type": "code",
      "source": [
        "from os import name\n",
        "f=open(\"normalTextFile.txt\",\"w\")\n",
        "\n",
        "print(\"file name is \",f.name)\n",
        "print(\"file mode is \", f.mode)\n",
        "print(\"file encoding mode is \", f.encoding)\n",
        "f.close()\n"
      ],
      "metadata": {
        "colab": {
          "base_uri": "https://localhost:8080/"
        },
        "id": "oWMKA6ms28Hw",
        "outputId": "1ba46d6b-2523-4500-c367-115f3208d32f"
      },
      "execution_count": 7,
      "outputs": [
        {
          "output_type": "stream",
          "name": "stdout",
          "text": [
            "file name is  normalTextFile.txt\n",
            "file mode is  w\n",
            "file encoding mode is  UTF-8\n"
          ]
        }
      ]
    },
    {
      "cell_type": "code",
      "source": [
        "#text mode & binary mode\n",
        "f = open(\"normalTextFile.txt\",\"rb\")\n",
        "\n",
        "data = f.read()\n",
        "print(data)\n",
        "\n",
        "f.close()"
      ],
      "metadata": {
        "colab": {
          "base_uri": "https://localhost:8080/"
        },
        "id": "c8h8rAHm5zQu",
        "outputId": "240e6b04-dece-4b9d-f720-4c97ad294a5d"
      },
      "execution_count": 11,
      "outputs": [
        {
          "output_type": "stream",
          "name": "stdout",
          "text": [
            "b'Hello this is my first file\\nthis is some more details'\n"
          ]
        }
      ]
    },
    {
      "cell_type": "code",
      "source": [
        "f = open(\"normalTextFile.txt\",\"rb\")\n",
        "\n",
        "data = f.readline()\n",
        "print(data)\n",
        "data = f.readline()\n",
        "print(data)\n",
        "\n",
        "f.close()"
      ],
      "metadata": {
        "colab": {
          "base_uri": "https://localhost:8080/"
        },
        "id": "9hqei1Re9Fy7",
        "outputId": "70b00a08-ac0c-4885-d22c-f8b1dab53a46"
      },
      "execution_count": 13,
      "outputs": [
        {
          "output_type": "stream",
          "name": "stdout",
          "text": [
            "b'Hello this is my first file\\n'\n",
            "b'this is some more details'\n"
          ]
        }
      ]
    },
    {
      "cell_type": "code",
      "source": [
        "f = open(\"normalTextFile.txt\",\"rb\")\n",
        "\n",
        "data = f.read(10)\n",
        "print(data, end=\"\")\n",
        "data = f.read(10)\n",
        "print(data)\n",
        "\n",
        "f.close()"
      ],
      "metadata": {
        "colab": {
          "base_uri": "https://localhost:8080/"
        },
        "id": "7xfUdLqw92pU",
        "outputId": "22b4a257-1c3c-4e79-e969-734f257f1c50"
      },
      "execution_count": 15,
      "outputs": [
        {
          "output_type": "stream",
          "name": "stdout",
          "text": [
            "b'Hello this'b' is my fir'\n"
          ]
        }
      ]
    },
    {
      "cell_type": "code",
      "source": [
        "f = open(\"normalTextFile.txt\",\"r\")\n",
        "\n",
        "data = f.readline(5)\n",
        "print(data,end=\"\")\n",
        "data = f.readline()\n",
        "print(data)\n",
        "data = f.readlines()\n",
        "print(data)\n",
        "f.close()"
      ],
      "metadata": {
        "colab": {
          "base_uri": "https://localhost:8080/"
        },
        "id": "Ebuj0P-W-mhV",
        "outputId": "1bcd7e48-bf02-46c2-a7d6-a6b3d4b551e4"
      },
      "execution_count": 17,
      "outputs": [
        {
          "output_type": "stream",
          "name": "stdout",
          "text": [
            "Hello this is my first file\n",
            "\n",
            "['this is some more details\\n', 'oh my god']\n"
          ]
        }
      ]
    }
  ]
}